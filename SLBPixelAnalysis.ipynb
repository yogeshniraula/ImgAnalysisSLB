{
 "cells": [
  {
   "cell_type": "code",
   "execution_count": 34,
   "id": "34442010",
   "metadata": {},
   "outputs": [
    {
     "name": "stdout",
     "output_type": "stream",
     "text": [
      "   Image Number  Percentage of Dark Pixels\n",
      "0             0                   0.001308\n",
      "(261, 293)\n"
     ]
    }
   ],
   "source": [
    "import cv2\n",
    "import numpy as np\n",
    "import os\n",
    "import pandas as pd\n",
    "\n",
    "# Load the TIFF file\n",
    "\n",
    "tiff_file =  'research/images/tiff_0/page180.png'\n",
    "frame = cv2.imread(tiff_file, cv2.IMREAD_GRAYSCALE)\n",
    "\n",
    "# Get the brightness threshold for each frame\n",
    "threshold = 90\n",
    "\n",
    "# Get the shape of the TIFF file\n",
    "num_rows, num_cols = frame.shape\n",
    "\n",
    "# Find the indices of the pixels with brightness less than the threshold\n",
    "dark_pixels = np.where(frame < threshold)\n",
    "\n",
    "# Calculate the percentage of dark pixels\n",
    "total_pixels = num_rows * num_cols\n",
    "dark_pixel_count = dark_pixels[0].shape[0]\n",
    "dark_pixel_percentage = (dark_pixel_count / total_pixels) * 100\n",
    "\n",
    "# Create a dataframe to store the results\n",
    "df = pd.DataFrame({\"Image Number\": [0], \"Percentage of Dark Pixels\": [dark_pixel_percentage]})\n",
    "\n",
    "\n",
    "# Print the tabulated results\n",
    "print(df)\n",
    "print(frame.shape)\n"
   ]
  },
  {
   "cell_type": "code",
   "execution_count": 53,
   "id": "ae955042",
   "metadata": {},
   "outputs": [
    {
     "name": "stderr",
     "output_type": "stream",
     "text": [
      "Calculating Pixels: 100%|██████████| 200/200 [00:00<00:00, 260.76it/s]\n",
      "Calculating Pixels: 100%|██████████| 200/200 [00:00<00:00, 266.82it/s]\n",
      "Calculating Pixels: 100%|██████████| 200/200 [00:00<00:00, 268.93it/s]\n",
      "Calculating Pixels: 100%|██████████| 200/200 [00:00<00:00, 266.20it/s]\n",
      "Calculating Pixels: 100%|██████████| 200/200 [00:00<00:00, 272.82it/s]\n",
      "Calculating Pixels: 100%|██████████| 200/200 [00:00<00:00, 260.86it/s]\n"
     ]
    }
   ],
   "source": [
    "import numpy as np\n",
    "import cv2\n",
    "pixels_val = []\n",
    "# Load the image\n",
    "for tif_index in range(6):\n",
    "    tifpath = 'research/tiff_files/' + f'SLB_{tif_index}.tif'\n",
    "    tif_img = Image.open(tifpath)\n",
    "    png_path = 'research/images/' + f'tiff_{tif_index}/'\n",
    "    for i, page in enumerate(ImageSequence.Iterator(tif_img)):\n",
    "        filename = 'research/images/' + f'tiff_{tif_index}/' + f'page{i}.png'\n",
    "        page.save(filename)\n",
    "    \n",
    "    max_pixels = []\n",
    "    for i in tqdm(range(200), desc = 'Calculating Pixels'):\n",
    "        string = png_path + f'page{i}.png'\n",
    "        frame = cv2.imread(string, cv2.COLOR_BGR2GRAY)\n",
    "        max_pixels.append(int(np.amax(frame)))\n",
    "    pixels_val.append(max_pixels)\n",
    "    \n",
    "    # Create a dataframe to store the results\n",
    "    df = pd.DataFrame(max_pixels, columns = ['Max Pixel Value'])\n",
    "    df.to_csv(f'research/csv_files/MGV_{tif_index}.csv', index = None)"
   ]
  },
  {
   "cell_type": "code",
   "execution_count": 52,
   "id": "2a39745f",
   "metadata": {},
   "outputs": [],
   "source": [
    "for i in range(len(pixels_val)):\n",
    "    df = pd.DataFrame(pixels_val[i], columns = ['Max Pixel Value'])\n",
    "    df.to_csv(f'research/csv_files/MGV_{i}.csv', index = None)"
   ]
  },
  {
   "cell_type": "code",
   "execution_count": 5,
   "id": "4a3aa732",
   "metadata": {},
   "outputs": [
    {
     "name": "stdout",
     "output_type": "stream",
     "text": [
      "98\n"
     ]
    }
   ],
   "source": [
    "def extract_values(imgnp):\n",
    "    extracted_values = []\n",
    "    for sub_arr in imgnp:\n",
    "        for value in sub_arr:\n",
    "            extracted_values.append(value)\n",
    "    return extracted_values\n",
    "\n",
    "nested_arr = imgnp\n",
    "result = extract_values(nested_arr)\n",
    "print(min(result))"
   ]
  },
  {
   "cell_type": "code",
   "execution_count": 20,
   "id": "686ec46c",
   "metadata": {},
   "outputs": [
    {
     "data": {
      "text/plain": [
       "array([[122, 111, 111, ..., 144, 103, 122],\n",
       "       [141, 156, 106, ..., 142, 123, 114],\n",
       "       [142, 148, 151, ..., 109, 153, 125],\n",
       "       ...,\n",
       "       [120, 124, 130, ..., 126, 114, 132],\n",
       "       [146, 122, 131, ..., 126, 150, 134],\n",
       "       [121, 131, 108, ..., 138, 116, 135]], dtype=uint8)"
      ]
     },
     "execution_count": 20,
     "metadata": {},
     "output_type": "execute_result"
    }
   ],
   "source": [
    "frame"
   ]
  },
  {
   "cell_type": "code",
   "execution_count": null,
   "id": "5c7f87cc",
   "metadata": {},
   "outputs": [],
   "source": [
    "os.getcwd()"
   ]
  },
  {
   "cell_type": "code",
   "execution_count": 2,
   "id": "01ca7e15",
   "metadata": {},
   "outputs": [],
   "source": [
    "from tqdm import tqdm\n",
    "\n",
    "import cv2\n",
    "import numpy as np\n",
    "import os\n",
    "import pandas as pd"
   ]
  },
  {
   "cell_type": "code",
   "execution_count": 3,
   "id": "0f05c39e",
   "metadata": {},
   "outputs": [
    {
     "name": "stderr",
     "output_type": "stream",
     "text": [
      "Calculaing Dark Pixels: 100%|██████████| 200/200 [00:00<00:00, 259.24it/s]\n",
      "Calculaing Dark Pixels: 100%|██████████| 200/200 [00:00<00:00, 250.09it/s]\n",
      "Calculaing Dark Pixels: 100%|██████████| 200/200 [00:00<00:00, 244.26it/s]\n",
      "Calculaing Dark Pixels: 100%|██████████| 200/200 [00:00<00:00, 247.34it/s]\n",
      "Calculaing Dark Pixels: 100%|██████████| 200/200 [00:00<00:00, 258.02it/s]\n",
      "Calculaing Dark Pixels: 100%|██████████| 200/200 [00:00<00:00, 251.68it/s]\n"
     ]
    }
   ],
   "source": [
    "from PIL import Image, ImageSequence\n",
    "cwd = os.getcwd()\n",
    "# Initialize a list to store the percentage of dark pixels for each frame\n",
    "\n",
    "for tif_index in range(6):\n",
    "    tifpath = 'research/tiff_files/' + f'SLB_{tif_index}.tif'\n",
    "    tif_img = Image.open(tifpath)\n",
    "    png_path = 'research/images/' + f'tiff_{tif_index}/'\n",
    "    \n",
    "    for i, page in enumerate(ImageSequence.Iterator(tif_img)):\n",
    "        filename = 'research/images/' + f'tiff_{tif_index}/' + f'page{i}.png'\n",
    "        page.save(filename)\n",
    "    \n",
    "    dark_pixel_percentages = []\n",
    "    for i in tqdm(range(200), desc = 'Calculaing Dark Pixels'):\n",
    "        string = png_path + f'page{i}.png'\n",
    "        frame = cv2.imread(string, cv2.IMREAD_GRAYSCALE)\n",
    "\n",
    "        # Get the brightness threshold for each frame\n",
    "        threshold = 0\n",
    "\n",
    "        # Get the shape of the TIFF file\n",
    "        num_rows, num_cols = frame.shape\n",
    "\n",
    "        # Find the indices of the pixels with brightness less than the threshold\n",
    "        dark_pixels = np.where(frame < threshold)\n",
    "\n",
    "        # Calculate the percentage of dark pixels\n",
    "        total_pixels = num_rows * num_cols\n",
    "        dark_pixel_count = dark_pixels[0].shape[0]\n",
    "        dark_pixel_percentage = (dark_pixel_count / total_pixels) * 100\n",
    "        dark_pixel_percentages.append(round(dark_pixel_percentage, 2))\n",
    "\n",
    "\n",
    "    # Create a dataframe to store the results\n",
    "    df = pd.DataFrame(zip([i for i in range(200)], dark_pixel_percentages ), columns = ['Image', 'Dark Pixels Percentage'])\n",
    "    df.to_csv(f'research/csv_files/SLB_{tif_index}.csv', index = None)\n"
   ]
  },
  {
   "cell_type": "code",
   "execution_count": null,
   "id": "37dc2a32",
   "metadata": {},
   "outputs": [],
   "source": []
  }
 ],
 "metadata": {
  "kernelspec": {
   "display_name": "Python 3 (ipykernel)",
   "language": "python",
   "name": "python3"
  },
  "language_info": {
   "codemirror_mode": {
    "name": "ipython",
    "version": 3
   },
   "file_extension": ".py",
   "mimetype": "text/x-python",
   "name": "python",
   "nbconvert_exporter": "python",
   "pygments_lexer": "ipython3",
   "version": "3.9.13"
  }
 },
 "nbformat": 4,
 "nbformat_minor": 5
}
